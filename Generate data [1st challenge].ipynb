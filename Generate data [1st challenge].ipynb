{
 "cells": [
  {
   "cell_type": "code",
   "execution_count": 68,
   "metadata": {
    "collapsed": true
   },
   "outputs": [],
   "source": [
    "import tensorflow as tf\n",
    "import numpy as np"
   ]
  },
  {
   "cell_type": "code",
   "execution_count": 49,
   "metadata": {
    "collapsed": false
   },
   "outputs": [],
   "source": [
    "from moviepy.editor import AudioFileClip\n",
    "from pathlib import Path"
   ]
  },
  {
   "cell_type": "code",
   "execution_count": 2,
   "metadata": {
    "collapsed": true
   },
   "outputs": [],
   "source": [
    "root_dir = Path('/vol/atlas/homes/gt108/db/CACAC')"
   ]
  },
  {
   "cell_type": "code",
   "execution_count": 40,
   "metadata": {
    "collapsed": false
   },
   "outputs": [],
   "source": [
    "with open((root_dir / 'labels.txt').as_posix()) as f:\n",
    "    raw_labels = [x.strip().split(';') for x in f.readlines()]\n",
    "    \n",
    "    labels = {}\n",
    "    for name, portion, g in raw_labels:\n",
    "        labels.setdefault(portion, []).append((name, g == 'CDS'))"
   ]
  },
  {
   "cell_type": "code",
   "execution_count": 119,
   "metadata": {
    "collapsed": false
   },
   "outputs": [],
   "source": [
    "def get_audio(wav_file):\n",
    "    file = AudioFileClip(str(root_dir / 'wav' / wav_file))\n",
    "    file = file.set_fps(16000)\n",
    "    audio = np.array(list(file.iter_frames()))[:, 0]\n",
    "    audio = np.pad(audio, (0, 640 - audio.shape[0] % 640), 'constant')\n",
    "    audio = audio.reshape(-1, 640)\n",
    "    return audio\n",
    "\n",
    "def _int_feauture(value):\n",
    "    return tf.train.Feature(int64_list=tf.train.Int64List(value=[value]))\n",
    "\n",
    "def _bytes_feauture(value):\n",
    "    return tf.train.Feature(bytes_list=tf.train.BytesList(value=[value]))\n",
    "\n",
    "def serialize_sample(writer, sample_data):\n",
    "    for i, (wav_file, label) in enumerate(sample_data):\n",
    "\n",
    "        audio = get_audio(wav_file)\n",
    "        example = tf.train.Example(features=tf.train.Features(feature={\n",
    "                    'label': _int_feauture(label),\n",
    "                    'raw_audio': _bytes_feauture(audio.tobytes()),\n",
    "                }))\n",
    "\n",
    "        writer.write(example.SerializeToString())\n",
    "        del audio, label"
   ]
  },
  {
   "cell_type": "code",
   "execution_count": 129,
   "metadata": {
    "collapsed": false
   },
   "outputs": [
    {
     "data": {
      "text/plain": [
       "3594"
      ]
     },
     "execution_count": 129,
     "metadata": {},
     "output_type": "execute_result"
    }
   ],
   "source": [
    "len(labels['test'])"
   ]
  },
  {
   "cell_type": "code",
   "execution_count": 122,
   "metadata": {
    "collapsed": false
   },
   "outputs": [
    {
     "name": "stdout",
     "output_type": "stream",
     "text": [
      "test\n",
      "train\n",
      "devel\n"
     ]
    }
   ],
   "source": [
    "for portion in labels:\n",
    "    print(portion)\n",
    "    \n",
    "    writer = tf.python_io.TFRecordWriter(\n",
    "        (root_dir / 'tf_records' / '{}.tfrecords'.format(portion)\n",
    "    ).as_posix())\n",
    "    \n",
    "    serialize_sample(writer, labels[portion])"
   ]
  }
 ],
 "metadata": {
  "anaconda-cloud": {},
  "kernelspec": {
   "display_name": "Python [default]",
   "language": "python",
   "name": "python3"
  },
  "language_info": {
   "codemirror_mode": {
    "name": "ipython",
    "version": 3
   },
   "file_extension": ".py",
   "mimetype": "text/x-python",
   "name": "python",
   "nbconvert_exporter": "python",
   "pygments_lexer": "ipython3",
   "version": "3.5.2"
  }
 },
 "nbformat": 4,
 "nbformat_minor": 1
}
