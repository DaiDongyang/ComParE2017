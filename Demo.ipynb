{
 "cells": [
  {
   "cell_type": "code",
   "execution_count": 29,
   "metadata": {
    "collapsed": false
   },
   "outputs": [],
   "source": [
    "%matplotlib inline"
   ]
  },
  {
   "cell_type": "code",
   "execution_count": 2,
   "metadata": {
    "collapsed": false
   },
   "outputs": [],
   "source": [
    "import tensorflow as tf\n",
    "import data_provider_raw\n",
    "import compare_train\n",
    "import models\n",
    "import numpy as np\n",
    "import matplotlib.pyplot as plt\n",
    "\n",
    "from menpo.visualize import print_dynamic\n",
    "slim = tf.contrib.slim"
   ]
  },
  {
   "cell_type": "markdown",
   "metadata": {},
   "source": [
    "## Start a TF Session"
   ]
  },
  {
   "cell_type": "code",
   "execution_count": 3,
   "metadata": {
    "collapsed": false
   },
   "outputs": [],
   "source": [
    "nogpu_config = tf.ConfigProto(\n",
    "    # Do not use a GPU device\n",
    "    device_count = {'GPU': 1}\n",
    ")\n",
    "\n",
    "sess = tf.Session(config=nogpu_config)"
   ]
  },
  {
   "cell_type": "markdown",
   "metadata": {},
   "source": [
    "## Setup the input tensor and the model"
   ]
  },
  {
   "cell_type": "markdown",
   "metadata": {},
   "source": [
    "The dimensionality of the input for a single sample should be a multiple of 640 (40ms for a 16KHz singal)."
   ]
  },
  {
   "cell_type": "code",
   "execution_count": 4,
   "metadata": {
    "collapsed": true
   },
   "outputs": [],
   "source": [
    "wave = tf.placeholder(tf.float32, shape=(1, None, 640))\n",
    "\n",
    "with slim.arg_scope([slim.batch_norm], is_training=False):\n",
    "    prediction = models.get_model('audio')(wave, num_classes=2)"
   ]
  },
  {
   "cell_type": "markdown",
   "metadata": {
    "collapsed": false
   },
   "source": [
    "### Restore the weights of the model"
   ]
  },
  {
   "cell_type": "code",
   "execution_count": 22,
   "metadata": {
    "collapsed": false
   },
   "outputs": [
    {
     "name": "stdout",
     "output_type": "stream",
     "text": [
      "ckpt/train/model.ckpt-58696\n"
     ]
    }
   ],
   "source": [
    "variables_to_restore = slim.get_variables_to_restore()  \n",
    "saver = tf.train.Saver(variables_to_restore)\n",
    "model_path = slim.evaluation.tf_saver.get_checkpoint_state('ckpt/train/').model_checkpoint_path\n",
    "saver.restore(sess, model_path)\n",
    "\n",
    "print(model_path)"
   ]
  },
  {
   "cell_type": "code",
   "execution_count": 23,
   "metadata": {
    "collapsed": true
   },
   "outputs": [],
   "source": [
    "from data_generator import read_wave\n",
    "from pathlib import Path"
   ]
  },
  {
   "cell_type": "markdown",
   "metadata": {},
   "source": [
    "### Feed the model the raw waveforms"
   ]
  },
  {
   "cell_type": "code",
   "execution_count": 28,
   "metadata": {
    "collapsed": false,
    "scrolled": true
   },
   "outputs": [
    {
     "name": "stdout",
     "output_type": "stream",
     "text": [
      "['cold' 'no_cold']\n",
      "9595, ac: 33.28%, rnd: 0.89%                                                    "
     ]
    }
   ],
   "source": [
    "preds = []\n",
    "gts = []\n",
    "names = []\n",
    "\n",
    "data = data_provider_raw.get_split('addressee', 'devel')\n",
    "\n",
    "for i, (audio, label, name) in enumerate(data):\n",
    "    \n",
    "    a = sess.run(prediction, feed_dict={wave: audio[None, :]})\n",
    "    preds.append(a[0])\n",
    "    names.append(name)\n",
    "    gts.append(label.argmax())\n",
    "    \n",
    "    print_dynamic(\"{}, ac: {:.2f}%, rnd: {:.2f}%\".format(\n",
    "            i, np.mean(np.array(preds).argmax(1) == np.array(gts)) * 100, np.array(gts).mean()))\n",
    "    \n",
    "preds = np.array(preds)\n",
    "gts = np.array(gts)"
   ]
  },
  {
   "cell_type": "markdown",
   "metadata": {
    "collapsed": false
   },
   "source": [
    "### Evaluate the model"
   ]
  },
  {
   "cell_type": "code",
   "execution_count": 27,
   "metadata": {
    "collapsed": false
   },
   "outputs": [
    {
     "data": {
      "text/plain": [
       "0.61925070219642908"
      ]
     },
     "execution_count": 27,
     "metadata": {},
     "output_type": "execute_result"
    }
   ],
   "source": [
    "from sklearn.metrics import confusion_matrix\n",
    "\n",
    "b = confusion_matrix(gts, preds.argmax(1))\n",
    "recalls = np.diag(b) / np.sum(b, axis=1, dtype=np.float)\n",
    "np.mean(recalls)"
   ]
  }
 ],
 "metadata": {
  "anaconda-cloud": {},
  "kernelspec": {
   "display_name": "Python [default]",
   "language": "python",
   "name": "python3"
  },
  "language_info": {
   "codemirror_mode": {
    "name": "ipython",
    "version": 3
   },
   "file_extension": ".py",
   "mimetype": "text/x-python",
   "name": "python",
   "nbconvert_exporter": "python",
   "pygments_lexer": "ipython3",
   "version": "3.5.2"
  }
 },
 "nbformat": 4,
 "nbformat_minor": 1
}
