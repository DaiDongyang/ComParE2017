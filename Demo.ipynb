{
 "cells": [
  {
   "cell_type": "code",
   "execution_count": 2,
   "metadata": {
    "collapsed": true
   },
   "outputs": [],
   "source": [
    "%matplotlib inline"
   ]
  },
  {
   "cell_type": "code",
   "execution_count": 3,
   "metadata": {
    "collapsed": false
   },
   "outputs": [],
   "source": [
    "import tensorflow as tf\n",
    "import data_provider\n",
    "import cacac_train\n",
    "import models\n",
    "import numpy as np\n",
    "import matplotlib.pyplot as plt\n",
    "\n",
    "from menpo.visualize import print_dynamic\n",
    "slim = tf.contrib.slim"
   ]
  },
  {
   "cell_type": "code",
   "execution_count": 4,
   "metadata": {
    "collapsed": false
   },
   "outputs": [],
   "source": [
    "nogpu_config = tf.ConfigProto(\n",
    "    # Do not use a GPU device\n",
    "    device_count = {'GPU': 1}\n",
    ")\n",
    "\n",
    "sess = tf.Session(config=nogpu_config)"
   ]
  },
  {
   "cell_type": "code",
   "execution_count": 5,
   "metadata": {
    "collapsed": true
   },
   "outputs": [],
   "source": [
    "sess = tf.Session()"
   ]
  },
  {
   "cell_type": "code",
   "execution_count": 6,
   "metadata": {
    "collapsed": false
   },
   "outputs": [],
   "source": [
    "audio, ground_truth = data_provider.get_split('/vol/atlas/homes/gt108/db/CACAC/tf_records', 'test', batch_size=1)"
   ]
  },
  {
   "cell_type": "code",
   "execution_count": 7,
   "metadata": {
    "collapsed": false
   },
   "outputs": [
    {
     "data": {
      "text/plain": [
       "[<Thread(Thread-4, started daemon 140407675479808)>,\n",
       " <Thread(Thread-5, started daemon 140407926220544)>,\n",
       " <Thread(Thread-6, started daemon 140405724980992)>,\n",
       " <Thread(Thread-7, started daemon 140405716588288)>,\n",
       " <Thread(Thread-8, started daemon 140404250322688)>,\n",
       " <Thread(Thread-9, started daemon 140404241929984)>]"
      ]
     },
     "execution_count": 7,
     "metadata": {},
     "output_type": "execute_result"
    }
   ],
   "source": [
    "tf.train.start_queue_runners(sess=sess)"
   ]
  },
  {
   "cell_type": "code",
   "execution_count": 8,
   "metadata": {
    "collapsed": false
   },
   "outputs": [],
   "source": [
    "with slim.arg_scope([slim.batch_norm, slim.layers.dropout],\n",
    "                    is_training=False):\n",
    "    prediction = models.get_model('audio')(audio)"
   ]
  },
  {
   "cell_type": "code",
   "execution_count": 9,
   "metadata": {
    "collapsed": false
   },
   "outputs": [
    {
     "name": "stdout",
     "output_type": "stream",
     "text": [
      "ckpt/train/model.ckpt-45002\n"
     ]
    }
   ],
   "source": [
    "variables_to_restore = slim.get_variables_to_restore()\n",
    "saver = tf.train.Saver(variables_to_restore)\n",
    "model_path = slim.evaluation.tf_saver.get_checkpoint_state('ckpt/train').model_checkpoint_path\n",
    "saver.restore(sess, model_path)\n",
    "print(model_path)"
   ]
  },
  {
   "cell_type": "code",
   "execution_count": 11,
   "metadata": {
    "collapsed": false
   },
   "outputs": [
    {
     "name": "stdout",
     "output_type": "stream",
     "text": [
      "3593/3594, ac: 0.60%, rnd: 0.60%                                                "
     ]
    }
   ],
   "source": [
    "preds = []\n",
    "gts = []\n",
    "\n",
    "num_samples = 3594\n",
    "\n",
    "for i in (range(num_samples)):\n",
    "    a, b = sess.run([tf.argmax(prediction, 1), tf.argmax(ground_truth, 1)])\n",
    "    preds.append(a[0])\n",
    "    gts.append(b[0])\n",
    "    \n",
    "    print_dynamic(\"{}/{}, ac: {:.2f}%, rnd: {:.2f}%\".format(\n",
    "            i, num_samples, np.mean(np.array(preds) == np.array(gts)), np.array(gts).mean()))"
   ]
  },
  {
   "cell_type": "code",
   "execution_count": null,
   "metadata": {
    "collapsed": true
   },
   "outputs": [],
   "source": []
  }
 ],
 "metadata": {
  "anaconda-cloud": {},
  "kernelspec": {
   "display_name": "Python [default]",
   "language": "python",
   "name": "python3"
  },
  "language_info": {
   "codemirror_mode": {
    "name": "ipython",
    "version": 3
   },
   "file_extension": ".py",
   "mimetype": "text/x-python",
   "name": "python",
   "nbconvert_exporter": "python",
   "pygments_lexer": "ipython3",
   "version": "3.5.2"
  }
 },
 "nbformat": 4,
 "nbformat_minor": 1
}
